{
 "cells": [
  {
   "cell_type": "code",
   "execution_count": null,
   "id": "c0487229",
   "metadata": {},
   "outputs": [],
   "source": [
    "import requests\n",
    "import pandas as pd"
   ]
  },
  {
   "cell_type": "code",
   "execution_count": null,
   "id": "fb74cec7",
   "metadata": {
    "scrolled": true
   },
   "outputs": [],
   "source": [
    "endpoint = 'https://data.nashville.gov/resource/fuaa-r5cm.json'\n",
    "response = requests.get(endpoint)\n",
    "response"
   ]
  },
  {
   "cell_type": "code",
   "execution_count": null,
   "id": "fa9ed780",
   "metadata": {},
   "outputs": [],
   "source": [
    "soc_dict = response.json()\n",
    "socrata = pd.DataFrame.from_dict(soc_dict)"
   ]
  },
  {
   "cell_type": "code",
   "execution_count": null,
   "id": "65f858f9",
   "metadata": {
    "scrolled": true
   },
   "outputs": [],
   "source": [
    "display(socrata)"
   ]
  },
  {
   "cell_type": "markdown",
   "id": "02bd3495",
   "metadata": {},
   "source": [
    "## Q1. "
   ]
  },
  {
   "cell_type": "code",
   "execution_count": null,
   "id": "66dc1ce5",
   "metadata": {},
   "outputs": [],
   "source": [
    "params = {'year':'2016', 'query_text':'fire'}"
   ]
  },
  {
   "cell_type": "code",
   "execution_count": null,
   "id": "4eee64ac",
   "metadata": {},
   "outputs": [],
   "source": [
    "response = requests.get(endpoint, params = params)"
   ]
  },
  {
   "cell_type": "code",
   "execution_count": null,
   "id": "cdf79b52",
   "metadata": {},
   "outputs": [],
   "source": [
    "q1_dict = response.json()\n",
    "q1df = pd.DataFrame.from_dict(q1_dict)\n",
    "display(q1df)"
   ]
  },
  {
   "cell_type": "code",
   "execution_count": null,
   "id": "712814ee",
   "metadata": {},
   "outputs": [],
   "source": [
    "print(q1df[q1df.query_count == q1df.query_count.max()])"
   ]
  },
  {
   "cell_type": "markdown",
   "id": "19ee959d",
   "metadata": {},
   "source": [
    "## Q2."
   ]
  },
  {
   "cell_type": "code",
   "execution_count": 3,
   "id": "d08c5889",
   "metadata": {},
   "outputs": [
    {
     "ename": "SyntaxError",
     "evalue": "invalid syntax (1044420033.py, line 1)",
     "output_type": "error",
     "traceback": [
      "\u001b[1;36m  Input \u001b[1;32mIn [3]\u001b[1;36m\u001b[0m\n\u001b[1;33m    params = {'query_count' gt '100'}\u001b[0m\n\u001b[1;37m                            ^\u001b[0m\n\u001b[1;31mSyntaxError\u001b[0m\u001b[1;31m:\u001b[0m invalid syntax\n"
     ]
    }
   ],
   "source": [
    "params = {'query_count'='100'}"
   ]
  },
  {
   "cell_type": "code",
   "execution_count": null,
   "id": "acd200b3",
   "metadata": {},
   "outputs": [],
   "source": [
    "response = requests.get(endpoint, params = params)"
   ]
  },
  {
   "cell_type": "code",
   "execution_count": null,
   "id": "c9571165",
   "metadata": {},
   "outputs": [],
   "source": [
    "q2_dict = response.json()\n",
    "q2df = pd.DataFrame.from_dict(q2_dict)\n",
    "display(q2df)"
   ]
  }
 ],
 "metadata": {
  "kernelspec": {
   "display_name": "Python 3 (ipykernel)",
   "language": "python",
   "name": "python3"
  },
  "language_info": {
   "codemirror_mode": {
    "name": "ipython",
    "version": 3
   },
   "file_extension": ".py",
   "mimetype": "text/x-python",
   "name": "python",
   "nbconvert_exporter": "python",
   "pygments_lexer": "ipython3",
   "version": "3.9.12"
  }
 },
 "nbformat": 4,
 "nbformat_minor": 5
}
